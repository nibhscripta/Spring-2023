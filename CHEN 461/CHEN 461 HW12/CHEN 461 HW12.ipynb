{
 "cells": [
  {
   "cell_type": "code",
   "execution_count": 73,
   "metadata": {},
   "outputs": [],
   "source": [
    "from control import ss, tf, step_response, input_output_response\n",
    "from matplotlib.pyplot import plot, xlabel, ylabel, title, legend, grid\n",
    "from numpy import zeros, ones, linspace, array\n",
    "\n",
    "from sympy import symbols, expand, simplify, exp\n",
    "from sympy.abc import s, t, lamda, theta\n",
    "from sympy.matrices import Matrix"
   ]
  },
  {
   "attachments": {},
   "cell_type": "markdown",
   "metadata": {},
   "source": [
    "# Problem 18.3"
   ]
  },
  {
   "cell_type": "code",
   "execution_count": 63,
   "metadata": {},
   "outputs": [
    {
     "data": {
      "text/plain": [
       "<matplotlib.legend.Legend at 0x18b0794fad0>"
      ]
     },
     "execution_count": 63,
     "metadata": {},
     "output_type": "execute_result"
    },
    {
     "data": {
      "image/png": "[encoded data removed]",
      "text/plain": [
       "<Figure size 640x480 with 1 Axes>"
      ]
     },
     "metadata": {},
     "output_type": "display_data"
    }
   ],
   "source": [
    "h_1, h_2, A_1, A_2, R_1, R_2, h_1sp, h_2sp, k_c1, k_c2 = symbols(\"h_1, h_2, A_1, A_2, R_1, R_2, h_1sp, h_2sp, k_c1, k_c2\")\n",
    "\n",
    "F_in1 = k_c1 * (h_1sp - h_1)\n",
    "F_in2 = k_c2 * (h_2sp - h_2)\n",
    "\n",
    "f_1 = expand((F_in1 - h_1 / R_1) / A_1)\n",
    "f_2 = expand((F_in2 + h_1 / R_1 - h_2 / R_2) / A_2)\n",
    "\n",
    "A_sym = Matrix([\n",
    "    [f_1.coeff(h_1), f_1.coeff(h_2)],\n",
    "    [f_2.coeff(h_1), f_2.coeff(h_2)],\n",
    "])\n",
    "\n",
    "B_sym = Matrix([\n",
    "    [f_1.coeff(h_1sp), f_1.coeff(h_2sp)],\n",
    "    [f_2.coeff(h_1sp), f_2.coeff(h_2sp)],\n",
    "])\n",
    "\n",
    "c_sym = Matrix([[0, 1 / R_2]])\n",
    "\n",
    "d = 0\n",
    "\n",
    "sub_dict = {A_1: 1, A_2: 0.5, R_1: 1, R_2: 2, k_c1: 4, k_c2: 4.5}\n",
    "\n",
    "A = array(A_sym.subs(sub_dict), dtype=float)\n",
    "B = array(B_sym.subs(sub_dict), dtype=float)\n",
    "c = array(c_sym.subs(sub_dict), dtype=float)\n",
    "\n",
    "sys = ss(A, B, c, d)\n",
    "t, y = step_response(sys)\n",
    "\n",
    "plot(t, y[0, 0], label=r\"Unit step in $h_{1,sp}$\")\n",
    "plot(t, y[0, 1], label=r\"Unit step in $h_{2,sp}$\")\n",
    "grid()\n",
    "legend(loc=\"right\")"
   ]
  },
  {
   "attachments": {},
   "cell_type": "markdown",
   "metadata": {},
   "source": [
    "# Problem 19.1"
   ]
  },
  {
   "attachments": {},
   "cell_type": "markdown",
   "metadata": {},
   "source": [
    "## Part A"
   ]
  },
  {
   "cell_type": "code",
   "execution_count": 70,
   "metadata": {},
   "outputs": [
    {
     "data": {
      "text/latex": [
       "$\\displaystyle \\frac{\\left(s \\tau_{1} + 1\\right) \\left(s \\tau_{2} + 1\\right) \\left(s \\tau_{3} + 1\\right)}{k \\left(s \\tau_{0} + 1\\right) \\left(\\left(\\lambda s + 1\\right)^{2} - 1\\right)}$"
      ],
      "text/plain": [
       "(s*tau_1 + 1)*(s*tau_2 + 1)*(s*tau_3 + 1)/(k*(s*tau_0 + 1)*((lamda*s + 1)**2 - 1))"
      ]
     },
     "execution_count": 70,
     "metadata": {},
     "output_type": "execute_result"
    }
   ],
   "source": [
    "k, tau_0, tau_1, tau_2, tau_3 = symbols(\"k, tau_0, tau_1, tau_2, tau_3\")\n",
    "\n",
    "Gpp = 1\n",
    "Gpm = k * (1 + tau_0 * s) / (1 + tau_1 * s) / (1 + tau_2 * s) / (1 + tau_3 * s)\n",
    "r = 2\n",
    "\n",
    "G_c = simplify(1 / ((lamda * s + 1)**r - Gpp) / Gpm)\n",
    "\n",
    "G_c"
   ]
  },
  {
   "attachments": {},
   "cell_type": "markdown",
   "metadata": {},
   "source": [
    "## Part B"
   ]
  },
  {
   "cell_type": "code",
   "execution_count": 71,
   "metadata": {},
   "outputs": [
    {
     "data": {
      "text/latex": [
       "$\\displaystyle \\frac{\\left(s \\tau_{1} + 1\\right) \\left(s \\tau_{2} + 1\\right) \\left(s \\tau_{3} + 1\\right)}{k \\left(s \\tau_{0} + \\left(\\lambda s + 1\\right)^{2} \\left(s \\tau_{0} + 1\\right) - 1\\right)}$"
      ],
      "text/plain": [
       "(s*tau_1 + 1)*(s*tau_2 + 1)*(s*tau_3 + 1)/(k*(s*tau_0 + (lamda*s + 1)**2*(s*tau_0 + 1) - 1))"
      ]
     },
     "execution_count": 71,
     "metadata": {},
     "output_type": "execute_result"
    }
   ],
   "source": [
    "Gpp = (1 - tau_0 * s) / (1 + tau_0 * s)\n",
    "\n",
    "G_c = simplify(1 / ((lamda * s + 1)**r - Gpp) / Gpm)\n",
    "\n",
    "G_c"
   ]
  },
  {
   "attachments": {},
   "cell_type": "markdown",
   "metadata": {},
   "source": [
    "## Part C"
   ]
  },
  {
   "cell_type": "code",
   "execution_count": 76,
   "metadata": {},
   "outputs": [
    {
     "data": {
      "text/latex": [
       "$\\displaystyle \\frac{\\left(s \\tau_{1} + 1\\right) \\left(s \\tau_{2} + 1\\right) e^{s \\theta}}{k \\left(\\left(\\lambda s + 1\\right)^{2} e^{s \\theta} - 1\\right)}$"
      ],
      "text/plain": [
       "(s*tau_1 + 1)*(s*tau_2 + 1)*exp(s*theta)/(k*((lamda*s + 1)**2*exp(s*theta) - 1))"
      ]
     },
     "execution_count": 76,
     "metadata": {},
     "output_type": "execute_result"
    }
   ],
   "source": [
    "Gpp = exp(-theta * s)\n",
    "Gpm = k / (1 + tau_1 * s) / (1 + tau_2 * s)\n",
    "r = 2\n",
    "G_c = simplify(1 / ((lamda * s + 1)**r - Gpp) / Gpm)\n",
    "\n",
    "G_c"
   ]
  },
  {
   "attachments": {},
   "cell_type": "markdown",
   "metadata": {},
   "source": [
    "### Pade"
   ]
  },
  {
   "cell_type": "code",
   "execution_count": 77,
   "metadata": {},
   "outputs": [
    {
     "data": {
      "text/latex": [
       "$\\displaystyle - \\frac{\\left(s \\tau_{1} + 1\\right) \\left(s \\tau_{2} + 1\\right) \\left(s \\theta + 2\\right)}{k \\left(s \\theta - 2\\right) \\left(\\left(\\lambda s + 1\\right)^{2} - 1\\right)}$"
      ],
      "text/plain": [
       "-(s*tau_1 + 1)*(s*tau_2 + 1)*(s*theta + 2)/(k*(s*theta - 2)*((lamda*s + 1)**2 - 1))"
      ]
     },
     "execution_count": 77,
     "metadata": {},
     "output_type": "execute_result"
    }
   ],
   "source": [
    "Gpp = 1\n",
    "pade_1 = (1 - theta * s / 2) / (1 + theta * s / 2)\n",
    "Gpm = k / (1 + tau_1 * s) / (1 + tau_2 * s) * pade_1\n",
    "r = 2\n",
    "G_c = simplify(1 / ((lamda * s + 1)**r - Gpp) / Gpm)\n",
    "\n",
    "G_c"
   ]
  }
 ],
 "metadata": {
  "kernelspec": {
   "display_name": "Python 3",
   "language": "python",
   "name": "python3"
  },
  "language_info": {
   "codemirror_mode": {
    "name": "ipython",
    "version": 3
   },
   "file_extension": ".py",
   "mimetype": "text/x-python",
   "name": "python",
   "nbconvert_exporter": "python",
   "pygments_lexer": "ipython3",
   "version": "3.11.0"
  },
  "orig_nbformat": 4
 },
 "nbformat": 4,
 "nbformat_minor": 2
}
