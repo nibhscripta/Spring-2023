{
 "cells": [
  {
   "cell_type": "code",
   "execution_count": 1,
   "metadata": {},
   "outputs": [],
   "source": [
    "import numpy as np\n",
    "import matplotlib.pyplot as plt\n",
    "from scipy.integrate import solve_ivp "
   ]
  },
  {
   "cell_type": "code",
   "execution_count": 2,
   "metadata": {},
   "outputs": [],
   "source": [
    "plt.rcParams['backend'] = 'svg'"
   ]
  },
  {
   "attachments": {},
   "cell_type": "markdown",
   "metadata": {},
   "source": [
    "# Problem 7.7"
   ]
  },
  {
   "cell_type": "code",
   "execution_count": 3,
   "metadata": {},
   "outputs": [],
   "source": [
    "ode_kwargs = {\n",
    "    'method': \"Radau\",\n",
    "    'rtol': 1e-8,\n",
    "    'atol': 1e-8,\n",
    "}\n",
    "\n",
    "def ode_linear(t, y):\n",
    "    f = y*0\n",
    "\n",
    "    V = 1\n",
    "    k_1 = 50\n",
    "    k_2 = 54\n",
    "    k_3 = 4\n",
    "    C_Rs = 1.5\n",
    "    C_Ps = 1\n",
    "    F_s = 21\n",
    "    C_Rins = 5.5\n",
    "\n",
    "    C_Rin = 0\n",
    "    F = 7\n",
    "\n",
    "    C_R = y[0] \n",
    "    C_P = y[1]\n",
    "\n",
    "    f[0] = -(F_s/V + k_1 + 2 * k_3 * C_Rs) * C_R + F_s/V * C_Rin + (C_Rins - C_Rs)/V * F\n",
    "    f[1] = k_1 * C_R - (F_s/V + k_2) * C_P - C_Ps/V * F\n",
    "\n",
    "    return f\n",
    "\n",
    "def ode_non_linear(t, y):\n",
    "    f = y*0\n",
    "\n",
    "    C_in = 5.5\n",
    "    F = 28\n",
    "    V = 1\n",
    "\n",
    "    C_R = y[0] \n",
    "    C_P = y[1]\n",
    "\n",
    "    f[0] = F/V*C_in - F/V*C_R - 50*C_R - 4*C_R**2\n",
    "    f[1] = -F/V*C_P + 50*C_R - 54*C_P\n",
    "\n",
    "    return f\n",
    "\n",
    "sol_linear = solve_ivp(ode_linear, [0, 0.5], [0, 0], **ode_kwargs)\n",
    "\n",
    "sol_non_linear = solve_ivp(ode_non_linear, [0, 0.5], [1.5, 1], **ode_kwargs)"
   ]
  },
  {
   "attachments": {},
   "cell_type": "markdown",
   "metadata": {},
   "source": [
    "$C_R$ plotting"
   ]
  },
  {
   "cell_type": "code",
   "execution_count": 4,
   "metadata": {},
   "outputs": [],
   "source": [
    "plt.plot(sol_linear.t, sol_linear.y[0] + 1.5, label=\"Linear\")\n",
    "plt.plot(sol_non_linear.t, sol_non_linear.y[0], label=\"Non-Linear\")\n",
    "plt.xlabel(r\"$t$ (min)\")\n",
    "plt.ylabel(\"Concentration (mol/L)\")\n",
    "plt.title(r\"Problem 7.7 $C_R$ Plot\")\n",
    "plt.legend()\n",
    "plt.savefig(fname=\"p1_r.svg\")"
   ]
  },
  {
   "attachments": {},
   "cell_type": "markdown",
   "metadata": {},
   "source": [
    "$C_P$ plotting"
   ]
  },
  {
   "cell_type": "code",
   "execution_count": 4,
   "metadata": {},
   "outputs": [],
   "source": [
    "plt.plot(sol_linear.t, sol_linear.y[1] + 1, label=\"Linear\")\n",
    "plt.plot(sol_non_linear.t, sol_non_linear.y[1], label=\"Non-Linear\")\n",
    "plt.xlabel(r\"$t$ (min)\")\n",
    "plt.ylabel(\"Concentration (mol/L)\")\n",
    "plt.title(r\"Problem 7.7 $C_P$ Plot\")\n",
    "plt.legend()\n",
    "plt.savefig(fname=\"p1_p.svg\")"
   ]
  },
  {
   "attachments": {},
   "cell_type": "markdown",
   "metadata": {},
   "source": [
    "# Problem 6.9"
   ]
  },
  {
   "cell_type": "code",
   "execution_count": 3,
   "metadata": {},
   "outputs": [],
   "source": [
    "ode_kwargs = {\n",
    "    'method': \"Radau\",\n",
    "    'rtol': 1e-8,\n",
    "    'atol': 1e-8,\n",
    "}\n",
    "\n",
    "def ode_1(t, y):\n",
    "    f = y*0\n",
    "\n",
    "    x_1 = y[0]\n",
    "    x_2 = y[1]\n",
    "\n",
    "    u_1 = 1\n",
    "    u_2 = 0\n",
    "\n",
    "    f[0] = -83 * x_1 + 21 * u_1 + 4 * u_2\n",
    "    f[1] = 50 * x_1 - 75 * x_2 - u_2\n",
    "\n",
    "    return f\n",
    "\n",
    "def ode_2(t, y):\n",
    "    f = y*0\n",
    "\n",
    "    x_1 = y[0]\n",
    "    x_2 = y[1]\n",
    "\n",
    "    u_1 = 0\n",
    "    u_2 = 1\n",
    "\n",
    "    f[0] = -83 * x_1 + 21 * u_1 + 4 * u_2\n",
    "    f[1] = 50 * x_1 - 75 * x_2 - u_2\n",
    "\n",
    "    return f\n",
    "\n",
    "init = [0, 0]\n",
    "\n",
    "sol_1 = solve_ivp(ode_1, [0, 0.1], init, **ode_kwargs)\n",
    "sol_2 = solve_ivp(ode_2, [0, 0.1], init, **ode_kwargs)"
   ]
  },
  {
   "attachments": {},
   "cell_type": "markdown",
   "metadata": {},
   "source": [
    "$x_1$ plotting"
   ]
  },
  {
   "cell_type": "code",
   "execution_count": 6,
   "metadata": {},
   "outputs": [],
   "source": [
    "plt.plot(sol_1.t, sol_1.y[0], label=\"First Case\")\n",
    "plt.plot(sol_2.t, sol_2.y[0], label=\"Second Case\")\n",
    "plt.xlabel(r\"$t$\")\n",
    "plt.ylabel(r\"$x_1$\")\n",
    "plt.title(r\"Problem 6.9 $x_1$ Plot\")\n",
    "plt.legend()\n",
    "plt.savefig(fname=\"p2_x1.svg\")"
   ]
  },
  {
   "attachments": {},
   "cell_type": "markdown",
   "metadata": {},
   "source": [
    "$x_2$ plotting"
   ]
  },
  {
   "cell_type": "code",
   "execution_count": 4,
   "metadata": {},
   "outputs": [],
   "source": [
    "plt.plot(sol_1.t, sol_1.y[1], label=\"First Case\")\n",
    "plt.plot(sol_2.t, sol_2.y[1], label=\"Second Case\")\n",
    "plt.xlabel(r\"$t$\")\n",
    "plt.ylabel(r\"$x_2$\")\n",
    "plt.title(r\"Problem 6.9 $x_2$ Plot\")\n",
    "plt.legend()\n",
    "plt.savefig(fname=\"p2_x2.svg\")"
   ]
  }
 ],
 "metadata": {
  "kernelspec": {
   "display_name": "Python 3",
   "language": "python",
   "name": "python3"
  },
  "language_info": {
   "codemirror_mode": {
    "name": "ipython",
    "version": 3
   },
   "file_extension": ".py",
   "mimetype": "text/x-python",
   "name": "python",
   "nbconvert_exporter": "python",
   "pygments_lexer": "ipython3",
   "version": "3.11.0"
  },
  "orig_nbformat": 4
 },
 "nbformat": 4,
 "nbformat_minor": 2
}
