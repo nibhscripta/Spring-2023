{
 "cells": [
  {
   "cell_type": "code",
   "execution_count": 2,
   "metadata": {},
   "outputs": [],
   "source": [
    "import numpy as np\n",
    "from scipy.optimize import curve_fit, fsolve\n",
    "from sklearn.metrics import r2_score"
   ]
  },
  {
   "cell_type": "code",
   "execution_count": 3,
   "metadata": {},
   "outputs": [],
   "source": [
    "def sys(x):\n",
    "    x_Ai = x[0]\n",
    "    y_Ai = x[1]\n",
    "    N_A = x[2]\n",
    "\n",
    "    y_AG = 0.25\n",
    "    x_AL = 0.05\n",
    "    k_y = 1.465e-3\n",
    "    k_x = 1.967e-3\n",
    "\n",
    "    x_BM = (x_Ai - x_AL) / np.log((1 - x_AL) / (1 - x_Ai))\n",
    "    y_BM = (y_AG - y_Ai) / np.log((1 - y_Ai) / (1 - y_AG))\n",
    "\n",
    "    y = lambda x: 31.505718328818997 * x**4 - 13.891128972298446 * x**3 + 3.2916990512215465 * x**2 + 0.29809257293996716 * x\n",
    "\n",
    "    f = x * 0\n",
    "\n",
    "    f[0] = y(x_Ai) - y_Ai\n",
    "    f[1] = k_y / y_BM * (y_AG - y_Ai) - N_A\n",
    "    f[2] = k_x / x_BM * (x_Ai - x_AL) - N_A\n",
    "\n",
    "    return f"
   ]
  },
  {
   "cell_type": "code",
   "execution_count": 4,
   "metadata": {},
   "outputs": [],
   "source": [
    "sol = fsolve(sys, [0.1, 0.1, 0.001])"
   ]
  },
  {
   "cell_type": "code",
   "execution_count": 5,
   "metadata": {},
   "outputs": [
    {
     "name": "stdout",
     "output_type": "stream",
     "text": [
      "x_Ai = 0.16870228037235308, y_Ai = 0.1027956306464033, N_A = 0.00026254333282513676\n"
     ]
    }
   ],
   "source": [
    "y = lambda x: 31.505718328818997 * x**4 - 13.891128972298446 * x**3 + 3.2916990512215465 * x**2 + 0.29809257293996716 * x\n",
    "y_AG = 0.25\n",
    "x_AL = 0.05\n",
    "k_y = 1.465e-3\n",
    "k_x = 1.967e-3\n",
    "\n",
    "\n",
    "x_Ai = sol[0]\n",
    "y_Ai = sol[1]\n",
    "N_A = sol[2]\n",
    "\n",
    "print(f\"x_Ai = {x_Ai}, y_Ai = {y_Ai}, N_A = {N_A}\")"
   ]
  },
  {
   "cell_type": "code",
   "execution_count": 8,
   "metadata": {},
   "outputs": [
    {
     "name": "stdout",
     "output_type": "stream",
     "text": [
      "K_y' = 0.0009875577992390111, K_y = 0.0011494609944081111\n",
      "N_A = 0.00026254333282513704\n",
      "K_x' = 0.0008951046615140561, K_x = 0.0010871414371996825\n",
      "N_A = 0.0002625433328251372\n",
      "\n",
      " 0.29149878188932843 1.1987668014568575 0.8233562174023233\n"
     ]
    }
   ],
   "source": [
    "y_star = y(x_AL)\n",
    "\n",
    "m_prime = (y_Ai - y_star) / (x_Ai - x_AL)\n",
    "\n",
    "y_BM_star = (y_AG - y_star) / np.log((1 - y_star) / (1 - y_AG))\n",
    "\n",
    "x_BM = (x_Ai - x_AL) / np.log((1 - x_AL) / (1 - x_Ai))\n",
    "y_BM = (y_AG - y_Ai) / np.log((1 - y_Ai) / (1 - y_AG))\n",
    "\n",
    "K_y = y_BM_star / (y_BM / k_y + m_prime * x_BM / k_x)\n",
    "\n",
    "print(f\"K_y' = {K_y}, K_y = {K_y / y_BM_star}\")\n",
    "\n",
    "print(f\"N_A = {K_y / y_BM_star * (y_AG - y_star)}\")\n",
    "\n",
    "x_star = fsolve(lambda x: y(x) - y_AG, [0.1])[0]\n",
    "\n",
    "m_2prime = (y_AG - y_Ai) / (x_star - x_Ai)\n",
    "\n",
    "x_BM_star = (x_star - x_AL) / np.log((1 - x_AL) / (1 - x_star))\n",
    "\n",
    "K_x = x_BM_star / (y_BM / k_y / m_2prime + x_BM / k_x)\n",
    "\n",
    "print(f\"K_x' = {K_x}, K_x = {K_x / x_BM_star}\")\n",
    "\n",
    "print(f\"N_A = {K_x / x_BM_star * (x_star - x_AL)}\")\n",
    "\n",
    "print(\"\\n\", x_star, m_2prime, x_BM_star)"
   ]
  },
  {
   "cell_type": "code",
   "execution_count": 21,
   "metadata": {},
   "outputs": [
    {
     "name": "stdout",
     "output_type": "stream",
     "text": [
      "31.505718328818997 -13.891128972298446 3.2916990512215465 0.29809257293996716\n"
     ]
    }
   ],
   "source": [
    "x_A = np.array([0, 0.05, 0.10, 0.15, 0.2, 0.25, 0.3, 0.35])\n",
    "y_A = np.array([0, 0.022, 0.052, 0.087, 0.131, 0.187, 0.265, 0.385])\n",
    "\n",
    "def poly(x, A, B, C, D):\n",
    "    return A * x**4 + B * x**3 + C * x**2 + D * x\n",
    "\n",
    "covs, _ = curve_fit(poly, x_A, y_A)\n",
    "\n",
    "print(*covs)\n",
    "\n",
    "# print(r2_score(y_A, poly(x_A, *covs)))"
   ]
  }
 ],
 "metadata": {
  "kernelspec": {
   "display_name": "Python 3",
   "language": "python",
   "name": "python3"
  },
  "language_info": {
   "codemirror_mode": {
    "name": "ipython",
    "version": 3
   },
   "file_extension": ".py",
   "mimetype": "text/x-python",
   "name": "python",
   "nbconvert_exporter": "python",
   "pygments_lexer": "ipython3",
   "version": "3.11.0"
  },
  "orig_nbformat": 4,
  "vscode": {
   "interpreter": {
    "hash": "58440cb31ce6410f26af9fab988c8c9f83872c4945c7b4bb9b29b03b1efcc291"
   }
  }
 },
 "nbformat": 4,
 "nbformat_minor": 2
}
